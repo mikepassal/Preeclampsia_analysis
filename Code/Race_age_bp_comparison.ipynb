{
 "cells": [
  {
   "cell_type": "code",
   "execution_count": 1,
   "metadata": {},
   "outputs": [],
   "source": [
    "import pandas as pd\n",
    "import numpy as np \n",
    "import scipy.stats \n"
   ]
  },
  {
   "cell_type": "code",
   "execution_count": 2,
   "metadata": {},
   "outputs": [
    {
     "data": {
      "text/html": [
       "<div>\n",
       "<style scoped>\n",
       "    .dataframe tbody tr th:only-of-type {\n",
       "        vertical-align: middle;\n",
       "    }\n",
       "\n",
       "    .dataframe tbody tr th {\n",
       "        vertical-align: top;\n",
       "    }\n",
       "\n",
       "    .dataframe thead th {\n",
       "        text-align: right;\n",
       "    }\n",
       "</style>\n",
       "<table border=\"1\" class=\"dataframe\">\n",
       "  <thead>\n",
       "    <tr style=\"text-align: right;\">\n",
       "      <th></th>\n",
       "      <th>Location</th>\n",
       "      <th>MRN</th>\n",
       "      <th>Race</th>\n",
       "      <th>SBP or DBP</th>\n",
       "      <th>Further cardiac work up</th>\n",
       "      <th>Age</th>\n",
       "      <th>Diagnosis Code</th>\n",
       "    </tr>\n",
       "  </thead>\n",
       "  <tbody>\n",
       "    <tr>\n",
       "      <th>0</th>\n",
       "      <td>Cobb</td>\n",
       "      <td>563212236</td>\n",
       "      <td>Hispanic</td>\n",
       "      <td>SBP</td>\n",
       "      <td>No</td>\n",
       "      <td>28</td>\n",
       "      <td>O48.0 Post-term pregnancy</td>\n",
       "    </tr>\n",
       "    <tr>\n",
       "      <th>1</th>\n",
       "      <td>Cobb</td>\n",
       "      <td>561446825</td>\n",
       "      <td>White</td>\n",
       "      <td>SBP</td>\n",
       "      <td>Yes</td>\n",
       "      <td>23</td>\n",
       "      <td>O14.13 Severe pre-eclampsia, third trimester</td>\n",
       "    </tr>\n",
       "    <tr>\n",
       "      <th>2</th>\n",
       "      <td>Cobb</td>\n",
       "      <td>565977380</td>\n",
       "      <td>Black</td>\n",
       "      <td>SBP</td>\n",
       "      <td>No</td>\n",
       "      <td>32</td>\n",
       "      <td>O24.419 Gestational diabetes mellitus in pregn...</td>\n",
       "    </tr>\n",
       "    <tr>\n",
       "      <th>3</th>\n",
       "      <td>Cobb</td>\n",
       "      <td>563098498</td>\n",
       "      <td>Hispanic</td>\n",
       "      <td>SBP</td>\n",
       "      <td>No</td>\n",
       "      <td>27</td>\n",
       "      <td>O14.93 Unspecified pre-eclampsia, third trimester</td>\n",
       "    </tr>\n",
       "    <tr>\n",
       "      <th>4</th>\n",
       "      <td>Cobb</td>\n",
       "      <td>561651857</td>\n",
       "      <td>Black</td>\n",
       "      <td>Both</td>\n",
       "      <td>Yes</td>\n",
       "      <td>21</td>\n",
       "      <td>J30.9 Allergic rhinitis, unspecified</td>\n",
       "    </tr>\n",
       "    <tr>\n",
       "      <th>...</th>\n",
       "      <td>...</td>\n",
       "      <td>...</td>\n",
       "      <td>...</td>\n",
       "      <td>...</td>\n",
       "      <td>...</td>\n",
       "      <td>...</td>\n",
       "      <td>...</td>\n",
       "    </tr>\n",
       "    <tr>\n",
       "      <th>829</th>\n",
       "      <td>Douglas</td>\n",
       "      <td>561718619</td>\n",
       "      <td>Black</td>\n",
       "      <td>SBP</td>\n",
       "      <td>No</td>\n",
       "      <td>23</td>\n",
       "      <td>O16.3 Unspecified maternal hypertension, third...</td>\n",
       "    </tr>\n",
       "    <tr>\n",
       "      <th>830</th>\n",
       "      <td>Douglas</td>\n",
       "      <td>563275199</td>\n",
       "      <td>Black</td>\n",
       "      <td>SBP</td>\n",
       "      <td>No</td>\n",
       "      <td>24</td>\n",
       "      <td>O60.00 Preterm labor without delivery, unspeci...</td>\n",
       "    </tr>\n",
       "    <tr>\n",
       "      <th>831</th>\n",
       "      <td>Douglas</td>\n",
       "      <td>565735474</td>\n",
       "      <td>Black</td>\n",
       "      <td>Both</td>\n",
       "      <td>Yes</td>\n",
       "      <td>24</td>\n",
       "      <td>O14.15 Severe pre-eclampsia, complicating the ...</td>\n",
       "    </tr>\n",
       "    <tr>\n",
       "      <th>832</th>\n",
       "      <td>Douglas</td>\n",
       "      <td>565462328</td>\n",
       "      <td>Black</td>\n",
       "      <td>Both</td>\n",
       "      <td>No</td>\n",
       "      <td>26</td>\n",
       "      <td>O36.8390 Matern care for abnlt fetl hrt rate o...</td>\n",
       "    </tr>\n",
       "    <tr>\n",
       "      <th>833</th>\n",
       "      <td>Douglas</td>\n",
       "      <td>567097665</td>\n",
       "      <td>Other</td>\n",
       "      <td>Both</td>\n",
       "      <td>No</td>\n",
       "      <td>29</td>\n",
       "      <td>O14.93 Unspecified pre-eclampsia, third trimester</td>\n",
       "    </tr>\n",
       "  </tbody>\n",
       "</table>\n",
       "<p>834 rows × 7 columns</p>\n",
       "</div>"
      ],
      "text/plain": [
       "    Location        MRN      Race SBP or DBP Further cardiac work up  Age  \\\n",
       "0       Cobb  563212236  Hispanic        SBP                      No   28   \n",
       "1       Cobb  561446825     White        SBP                     Yes   23   \n",
       "2       Cobb  565977380     Black        SBP                      No   32   \n",
       "3       Cobb  563098498  Hispanic        SBP                      No   27   \n",
       "4       Cobb  561651857     Black       Both                     Yes   21   \n",
       "..       ...        ...       ...        ...                     ...  ...   \n",
       "829  Douglas  561718619     Black        SBP                      No   23   \n",
       "830  Douglas  563275199     Black        SBP                      No   24   \n",
       "831  Douglas  565735474     Black       Both                     Yes   24   \n",
       "832  Douglas  565462328     Black       Both                      No   26   \n",
       "833  Douglas  567097665     Other       Both                      No   29   \n",
       "\n",
       "                                        Diagnosis Code  \n",
       "0                            O48.0 Post-term pregnancy  \n",
       "1         O14.13 Severe pre-eclampsia, third trimester  \n",
       "2    O24.419 Gestational diabetes mellitus in pregn...  \n",
       "3    O14.93 Unspecified pre-eclampsia, third trimester  \n",
       "4                 J30.9 Allergic rhinitis, unspecified  \n",
       "..                                                 ...  \n",
       "829  O16.3 Unspecified maternal hypertension, third...  \n",
       "830  O60.00 Preterm labor without delivery, unspeci...  \n",
       "831  O14.15 Severe pre-eclampsia, complicating the ...  \n",
       "832  O36.8390 Matern care for abnlt fetl hrt rate o...  \n",
       "833  O14.93 Unspecified pre-eclampsia, third trimester  \n",
       "\n",
       "[834 rows x 7 columns]"
      ]
     },
     "execution_count": 2,
     "metadata": {},
     "output_type": "execute_result"
    }
   ],
   "source": [
    "full_data= pd.read_csv('/data/passala/git/Preeclampsia_analysis/Data/Cleaned_full_data.csv', sep = '\\t')\n",
    "full_data"
   ]
  },
  {
   "cell_type": "code",
   "execution_count": 3,
   "metadata": {},
   "outputs": [],
   "source": [
    "sbp_only = full_data.loc[full_data['SBP or DBP'] == 'SBP']\n",
    "dbp_only = full_data.loc[full_data['SBP or DBP'] == 'DBP']"
   ]
  },
  {
   "cell_type": "code",
   "execution_count": 13,
   "metadata": {},
   "outputs": [
    {
     "name": "stdout",
     "output_type": "stream",
     "text": [
      "MannwhitneyuResult(statistic=7181.5, pvalue=0.43871800920137194)\n"
     ]
    }
   ],
   "source": [
    "bp_results = scipy.stats.mannwhitneyu(x = sbp_only['Age'], y = dbp_only['Age'])\n",
    "print(bp_results)"
   ]
  },
  {
   "cell_type": "code",
   "execution_count": 12,
   "metadata": {},
   "outputs": [],
   "source": [
    "further_cardio_workup = full_data.loc[full_data['Further cardiac work up'] == 'Yes']\n",
    "no_further_workup = full_data.loc[full_data['Further cardiac work up'] == 'No']"
   ]
  },
  {
   "cell_type": "code",
   "execution_count": 38,
   "metadata": {},
   "outputs": [
    {
     "name": "stderr",
     "output_type": "stream",
     "text": [
      "/home/passala/miniconda3/lib/python3.7/site-packages/ipykernel_launcher.py:1: FutureWarning: Dropping of nuisance columns in DataFrame reductions (with 'numeric_only=None') is deprecated; in a future version this will raise TypeError.  Select only valid columns before calling the reduction.\n",
      "  \"\"\"Entry point for launching an IPython kernel.\n"
     ]
    },
    {
     "data": {
      "text/plain": [
       "MRN    5.634679e+08\n",
       "Age    3.066871e+01\n",
       "dtype: float64"
      ]
     },
     "execution_count": 38,
     "metadata": {},
     "output_type": "execute_result"
    }
   ],
   "source": [
    "further_cardio_workup.mean() #show changes"
   ]
  },
  {
   "cell_type": "code",
   "execution_count": 39,
   "metadata": {},
   "outputs": [
    {
     "name": "stderr",
     "output_type": "stream",
     "text": [
      "/home/passala/miniconda3/lib/python3.7/site-packages/ipykernel_launcher.py:1: FutureWarning: Dropping of nuisance columns in DataFrame reductions (with 'numeric_only=None') is deprecated; in a future version this will raise TypeError.  Select only valid columns before calling the reduction.\n",
      "  \"\"\"Entry point for launching an IPython kernel.\n"
     ]
    },
    {
     "data": {
      "text/plain": [
       "MRN    5.637088e+08\n",
       "Age    2.990313e+01\n",
       "dtype: float64"
      ]
     },
     "execution_count": 39,
     "metadata": {},
     "output_type": "execute_result"
    }
   ],
   "source": [
    "no_further_workup.mean()"
   ]
  },
  {
   "cell_type": "code",
   "execution_count": 16,
   "metadata": {},
   "outputs": [
    {
     "name": "stdout",
     "output_type": "stream",
     "text": [
      "MannwhitneyuResult(statistic=57932.5, pvalue=0.23890492930038298)\n"
     ]
    }
   ],
   "source": [
    "cardio_workup_by_age = scipy.stats.mannwhitneyu(x = further_cardio_workup['Age'], y = no_further_workup['Age'])\n",
    "print(cardio_workup_by_age)"
   ]
  },
  {
   "cell_type": "code",
   "execution_count": 23,
   "metadata": {},
   "outputs": [
    {
     "data": {
      "text/html": [
       "<div>\n",
       "<style scoped>\n",
       "    .dataframe tbody tr th:only-of-type {\n",
       "        vertical-align: middle;\n",
       "    }\n",
       "\n",
       "    .dataframe tbody tr th {\n",
       "        vertical-align: top;\n",
       "    }\n",
       "\n",
       "    .dataframe thead th {\n",
       "        text-align: right;\n",
       "    }\n",
       "</style>\n",
       "<table border=\"1\" class=\"dataframe\">\n",
       "  <thead>\n",
       "    <tr style=\"text-align: right;\">\n",
       "      <th>Race</th>\n",
       "      <th>Black</th>\n",
       "      <th>Hispanic</th>\n",
       "      <th>Other</th>\n",
       "      <th>White</th>\n",
       "    </tr>\n",
       "    <tr>\n",
       "      <th>Further cardiac work up</th>\n",
       "      <th></th>\n",
       "      <th></th>\n",
       "      <th></th>\n",
       "      <th></th>\n",
       "    </tr>\n",
       "  </thead>\n",
       "  <tbody>\n",
       "    <tr>\n",
       "      <th>No</th>\n",
       "      <td>294</td>\n",
       "      <td>166</td>\n",
       "      <td>38</td>\n",
       "      <td>173</td>\n",
       "    </tr>\n",
       "    <tr>\n",
       "      <th>Yes</th>\n",
       "      <td>80</td>\n",
       "      <td>14</td>\n",
       "      <td>10</td>\n",
       "      <td>59</td>\n",
       "    </tr>\n",
       "  </tbody>\n",
       "</table>\n",
       "</div>"
      ],
      "text/plain": [
       "Race                     Black  Hispanic  Other  White\n",
       "Further cardiac work up                               \n",
       "No                         294       166     38    173\n",
       "Yes                         80        14     10     59"
      ]
     },
     "execution_count": 23,
     "metadata": {},
     "output_type": "execute_result"
    }
   ],
   "source": [
    "cardiac_workup_contingency_table = pd.crosstab(full_data['Further cardiac work up'], full_data['Race'])\n",
    "cardiac_workup_contingency_table"
   ]
  },
  {
   "cell_type": "code",
   "execution_count": 25,
   "metadata": {},
   "outputs": [
    {
     "data": {
      "text/html": [
       "<div>\n",
       "<style scoped>\n",
       "    .dataframe tbody tr th:only-of-type {\n",
       "        vertical-align: middle;\n",
       "    }\n",
       "\n",
       "    .dataframe tbody tr th {\n",
       "        vertical-align: top;\n",
       "    }\n",
       "\n",
       "    .dataframe thead th {\n",
       "        text-align: right;\n",
       "    }\n",
       "</style>\n",
       "<table border=\"1\" class=\"dataframe\">\n",
       "  <thead>\n",
       "    <tr style=\"text-align: right;\">\n",
       "      <th>Race</th>\n",
       "      <th>Black</th>\n",
       "      <th>Hispanic</th>\n",
       "      <th>Other</th>\n",
       "      <th>White</th>\n",
       "    </tr>\n",
       "    <tr>\n",
       "      <th>SBP or DBP</th>\n",
       "      <th></th>\n",
       "      <th></th>\n",
       "      <th></th>\n",
       "      <th></th>\n",
       "    </tr>\n",
       "  </thead>\n",
       "  <tbody>\n",
       "    <tr>\n",
       "      <th>Both</th>\n",
       "      <td>53</td>\n",
       "      <td>10</td>\n",
       "      <td>7</td>\n",
       "      <td>25</td>\n",
       "    </tr>\n",
       "    <tr>\n",
       "      <th>DBP</th>\n",
       "      <td>7</td>\n",
       "      <td>5</td>\n",
       "      <td>1</td>\n",
       "      <td>5</td>\n",
       "    </tr>\n",
       "    <tr>\n",
       "      <th>SBP</th>\n",
       "      <td>314</td>\n",
       "      <td>165</td>\n",
       "      <td>40</td>\n",
       "      <td>202</td>\n",
       "    </tr>\n",
       "  </tbody>\n",
       "</table>\n",
       "</div>"
      ],
      "text/plain": [
       "Race        Black  Hispanic  Other  White\n",
       "SBP or DBP                               \n",
       "Both           53        10      7     25\n",
       "DBP             7         5      1      5\n",
       "SBP           314       165     40    202"
      ]
     },
     "execution_count": 25,
     "metadata": {},
     "output_type": "execute_result"
    }
   ],
   "source": [
    "bp_contingency_table = pd.crosstab(full_data['SBP or DBP'], full_data['Race'])\n",
    "bp_contingency_table"
   ]
  },
  {
   "cell_type": "code",
   "execution_count": 26,
   "metadata": {},
   "outputs": [],
   "source": [
    "cardiac_cont_results = scipy.stats.chi2_contingency(observed= cardiac_workup_contingency_table, correction= False)"
   ]
  },
  {
   "cell_type": "code",
   "execution_count": 29,
   "metadata": {},
   "outputs": [
    {
     "data": {
      "text/plain": [
       "7.101373049263286e-05"
      ]
     },
     "execution_count": 29,
     "metadata": {},
     "output_type": "execute_result"
    }
   ],
   "source": [
    "cardiac_statistic = cardiac_cont_results[0]\n",
    "cardiac_p_value = cardiac_cont_results[1]\n",
    "cardiac_dof = cardiac_cont_results[2]\n",
    "cardiac_expected_freq = cardiac_cont_results[3]\n",
    "cardiac_p_value"
   ]
  },
  {
   "cell_type": "code",
   "execution_count": 31,
   "metadata": {},
   "outputs": [
    {
     "data": {
      "text/plain": [
       "array([[300.90407674, 144.82014388,  38.61870504, 186.65707434],\n",
       "       [ 73.09592326,  35.17985612,   9.38129496,  45.34292566]])"
      ]
     },
     "execution_count": 31,
     "metadata": {},
     "output_type": "execute_result"
    }
   ],
   "source": [
    "cardiac_expected_freq"
   ]
  },
  {
   "cell_type": "code",
   "execution_count": 36,
   "metadata": {},
   "outputs": [
    {
     "data": {
      "text/html": [
       "<div>\n",
       "<style scoped>\n",
       "    .dataframe tbody tr th:only-of-type {\n",
       "        vertical-align: middle;\n",
       "    }\n",
       "\n",
       "    .dataframe tbody tr th {\n",
       "        vertical-align: top;\n",
       "    }\n",
       "\n",
       "    .dataframe thead th {\n",
       "        text-align: right;\n",
       "    }\n",
       "</style>\n",
       "<table border=\"1\" class=\"dataframe\">\n",
       "  <thead>\n",
       "    <tr style=\"text-align: right;\">\n",
       "      <th>Race</th>\n",
       "      <th>Black</th>\n",
       "      <th>Hispanic</th>\n",
       "      <th>Other</th>\n",
       "      <th>White</th>\n",
       "    </tr>\n",
       "    <tr>\n",
       "      <th>Further cardiac work up</th>\n",
       "      <th></th>\n",
       "      <th></th>\n",
       "      <th></th>\n",
       "      <th></th>\n",
       "    </tr>\n",
       "  </thead>\n",
       "  <tbody>\n",
       "    <tr>\n",
       "      <th>No</th>\n",
       "      <td>294</td>\n",
       "      <td>166</td>\n",
       "      <td>38</td>\n",
       "      <td>173</td>\n",
       "    </tr>\n",
       "    <tr>\n",
       "      <th>Yes</th>\n",
       "      <td>80</td>\n",
       "      <td>14</td>\n",
       "      <td>10</td>\n",
       "      <td>59</td>\n",
       "    </tr>\n",
       "  </tbody>\n",
       "</table>\n",
       "</div>"
      ],
      "text/plain": [
       "Race                     Black  Hispanic  Other  White\n",
       "Further cardiac work up                               \n",
       "No                         294       166     38    173\n",
       "Yes                         80        14     10     59"
      ]
     },
     "execution_count": 36,
     "metadata": {},
     "output_type": "execute_result"
    }
   ],
   "source": [
    "cardiac_workup_contingency_table"
   ]
  },
  {
   "cell_type": "code",
   "execution_count": 32,
   "metadata": {},
   "outputs": [],
   "source": [
    "bp_cont_results = scipy.stats.chi2_contingency(observed= bp_contingency_table, correction= False)"
   ]
  },
  {
   "cell_type": "code",
   "execution_count": 34,
   "metadata": {},
   "outputs": [
    {
     "data": {
      "text/plain": [
       "0.13384329019823657"
      ]
     },
     "execution_count": 34,
     "metadata": {},
     "output_type": "execute_result"
    }
   ],
   "source": [
    "bp_statistic = bp_cont_results[0]\n",
    "bp_p_value = bp_cont_results[1]\n",
    "bp_dof = bp_cont_results[2]\n",
    "bp_expected_freq = bp_cont_results[3]\n",
    "bp_p_value"
   ]
  },
  {
   "cell_type": "code",
   "execution_count": 35,
   "metadata": {},
   "outputs": [
    {
     "data": {
      "text/plain": [
       "array([[ 42.60191847,  20.50359712,   5.4676259 ,  26.42685851],\n",
       "       [  8.07194245,   3.88489209,   1.03597122,   5.00719424],\n",
       "       [323.32613909, 155.61151079,  41.49640288, 200.56594724]])"
      ]
     },
     "execution_count": 35,
     "metadata": {},
     "output_type": "execute_result"
    }
   ],
   "source": [
    "bp_expected_freq\n"
   ]
  },
  {
   "cell_type": "code",
   "execution_count": 37,
   "metadata": {},
   "outputs": [
    {
     "data": {
      "text/html": [
       "<div>\n",
       "<style scoped>\n",
       "    .dataframe tbody tr th:only-of-type {\n",
       "        vertical-align: middle;\n",
       "    }\n",
       "\n",
       "    .dataframe tbody tr th {\n",
       "        vertical-align: top;\n",
       "    }\n",
       "\n",
       "    .dataframe thead th {\n",
       "        text-align: right;\n",
       "    }\n",
       "</style>\n",
       "<table border=\"1\" class=\"dataframe\">\n",
       "  <thead>\n",
       "    <tr style=\"text-align: right;\">\n",
       "      <th>Race</th>\n",
       "      <th>Black</th>\n",
       "      <th>Hispanic</th>\n",
       "      <th>Other</th>\n",
       "      <th>White</th>\n",
       "    </tr>\n",
       "    <tr>\n",
       "      <th>SBP or DBP</th>\n",
       "      <th></th>\n",
       "      <th></th>\n",
       "      <th></th>\n",
       "      <th></th>\n",
       "    </tr>\n",
       "  </thead>\n",
       "  <tbody>\n",
       "    <tr>\n",
       "      <th>Both</th>\n",
       "      <td>53</td>\n",
       "      <td>10</td>\n",
       "      <td>7</td>\n",
       "      <td>25</td>\n",
       "    </tr>\n",
       "    <tr>\n",
       "      <th>DBP</th>\n",
       "      <td>7</td>\n",
       "      <td>5</td>\n",
       "      <td>1</td>\n",
       "      <td>5</td>\n",
       "    </tr>\n",
       "    <tr>\n",
       "      <th>SBP</th>\n",
       "      <td>314</td>\n",
       "      <td>165</td>\n",
       "      <td>40</td>\n",
       "      <td>202</td>\n",
       "    </tr>\n",
       "  </tbody>\n",
       "</table>\n",
       "</div>"
      ],
      "text/plain": [
       "Race        Black  Hispanic  Other  White\n",
       "SBP or DBP                               \n",
       "Both           53        10      7     25\n",
       "DBP             7         5      1      5\n",
       "SBP           314       165     40    202"
      ]
     },
     "execution_count": 37,
     "metadata": {},
     "output_type": "execute_result"
    }
   ],
   "source": [
    "bp_contingency_table"
   ]
  },
  {
   "cell_type": "code",
   "execution_count": null,
   "metadata": {},
   "outputs": [],
   "source": []
  }
 ],
 "metadata": {
  "kernelspec": {
   "display_name": "base",
   "language": "python",
   "name": "python3"
  },
  "language_info": {
   "codemirror_mode": {
    "name": "ipython",
    "version": 3
   },
   "file_extension": ".py",
   "mimetype": "text/x-python",
   "name": "python",
   "nbconvert_exporter": "python",
   "pygments_lexer": "ipython3",
   "version": "3.7.12"
  }
 },
 "nbformat": 4,
 "nbformat_minor": 2
}
